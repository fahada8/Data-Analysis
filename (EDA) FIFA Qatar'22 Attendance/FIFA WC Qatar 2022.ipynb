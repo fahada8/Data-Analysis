{
 "cells": [
  {
   "cell_type": "code",
   "execution_count": 1,
   "id": "def5a21b",
   "metadata": {},
   "outputs": [],
   "source": [
    "import pandas as pd\n",
    "import numpy as np\n",
    "import matplotlib.pyplot as plt\n",
    "import seaborn as sns\n",
    "import warnings\n",
    "warnings.filterwarnings('ignore')"
   ]
  },
  {
   "cell_type": "code",
   "execution_count": 2,
   "id": "1b0334e9",
   "metadata": {},
   "outputs": [],
   "source": [
    "data1 = pd.read_csv('qatar2022.csv')"
   ]
  },
  {
   "cell_type": "code",
   "execution_count": 3,
   "id": "b4cacb64",
   "metadata": {},
   "outputs": [
    {
     "data": {
      "text/html": [
       "<div>\n",
       "<style scoped>\n",
       "    .dataframe tbody tr th:only-of-type {\n",
       "        vertical-align: middle;\n",
       "    }\n",
       "\n",
       "    .dataframe tbody tr th {\n",
       "        vertical-align: top;\n",
       "    }\n",
       "\n",
       "    .dataframe thead th {\n",
       "        text-align: right;\n",
       "    }\n",
       "</style>\n",
       "<table border=\"1\" class=\"dataframe\">\n",
       "  <thead>\n",
       "    <tr style=\"text-align: right;\">\n",
       "      <th></th>\n",
       "      <th>Date</th>\n",
       "      <th>Time</th>\n",
       "      <th>Home</th>\n",
       "      <th>Away</th>\n",
       "      <th>Attendance</th>\n",
       "      <th>Venue</th>\n",
       "    </tr>\n",
       "  </thead>\n",
       "  <tbody>\n",
       "    <tr>\n",
       "      <th>49</th>\n",
       "      <td>03 December 2022</td>\n",
       "      <td>22:00 (00:30)</td>\n",
       "      <td>Argentina</td>\n",
       "      <td>Australia</td>\n",
       "      <td>45,032</td>\n",
       "      <td>Ahmed bin Ali Stadium</td>\n",
       "    </tr>\n",
       "    <tr>\n",
       "      <th>50</th>\n",
       "      <td>04 December 2022</td>\n",
       "      <td>18:00 (20:30)</td>\n",
       "      <td>France</td>\n",
       "      <td>Poland</td>\n",
       "      <td>40,989</td>\n",
       "      <td>Al Thumama Stadium (Neutral Site)</td>\n",
       "    </tr>\n",
       "    <tr>\n",
       "      <th>32</th>\n",
       "      <td>29 November 2022</td>\n",
       "      <td>18:00 (20:30)</td>\n",
       "      <td>Ecuador</td>\n",
       "      <td>Senegal</td>\n",
       "      <td>44,569</td>\n",
       "      <td>Khalifa International Stadium</td>\n",
       "    </tr>\n",
       "    <tr>\n",
       "      <th>37</th>\n",
       "      <td>30 November 2022</td>\n",
       "      <td>18:00 (20:30)</td>\n",
       "      <td>Tunisia</td>\n",
       "      <td>France</td>\n",
       "      <td>43,627</td>\n",
       "      <td>Education City Stadium</td>\n",
       "    </tr>\n",
       "    <tr>\n",
       "      <th>6</th>\n",
       "      <td>22 November 2022</td>\n",
       "      <td>19:00 (21:30)</td>\n",
       "      <td>Mexico</td>\n",
       "      <td>Poland</td>\n",
       "      <td>39,369</td>\n",
       "      <td>Stadium 974</td>\n",
       "    </tr>\n",
       "    <tr>\n",
       "      <th>42</th>\n",
       "      <td>01 December 2022</td>\n",
       "      <td>22:00 (00:30)</td>\n",
       "      <td>Costa Rica</td>\n",
       "      <td>Germany</td>\n",
       "      <td>67,054</td>\n",
       "      <td>Al Bayt Stadium</td>\n",
       "    </tr>\n",
       "    <tr>\n",
       "      <th>31</th>\n",
       "      <td>28 November 2022</td>\n",
       "      <td>22:00 (00:30)</td>\n",
       "      <td>Portugal</td>\n",
       "      <td>Uruguay</td>\n",
       "      <td>88,668</td>\n",
       "      <td>Lusail Iconic Stadium</td>\n",
       "    </tr>\n",
       "    <tr>\n",
       "      <th>57</th>\n",
       "      <td>09 December 2022</td>\n",
       "      <td>22:00 (00:30)</td>\n",
       "      <td>Netherlands</td>\n",
       "      <td>Argentina</td>\n",
       "      <td>88,235</td>\n",
       "      <td>Lusail Iconic Stadium</td>\n",
       "    </tr>\n",
       "    <tr>\n",
       "      <th>20</th>\n",
       "      <td>26 November 2022</td>\n",
       "      <td>13:00 (15:30)</td>\n",
       "      <td>Tunisia</td>\n",
       "      <td>Australia</td>\n",
       "      <td>41,823</td>\n",
       "      <td>Al Janoub Stadium</td>\n",
       "    </tr>\n",
       "    <tr>\n",
       "      <th>33</th>\n",
       "      <td>29 November 2022</td>\n",
       "      <td>18:00 (20:30)</td>\n",
       "      <td>Netherlands</td>\n",
       "      <td>Qatar</td>\n",
       "      <td>66,784</td>\n",
       "      <td>Al Bayt Stadium</td>\n",
       "    </tr>\n",
       "  </tbody>\n",
       "</table>\n",
       "</div>"
      ],
      "text/plain": [
       "                Date           Time         Home       Away Attendance  \\\n",
       "49  03 December 2022  22:00 (00:30)    Argentina  Australia     45,032   \n",
       "50  04 December 2022  18:00 (20:30)       France     Poland     40,989   \n",
       "32  29 November 2022  18:00 (20:30)      Ecuador    Senegal     44,569   \n",
       "37  30 November 2022  18:00 (20:30)      Tunisia     France     43,627   \n",
       "6   22 November 2022  19:00 (21:30)       Mexico     Poland     39,369   \n",
       "42  01 December 2022  22:00 (00:30)  Costa Rica     Germany     67,054   \n",
       "31  28 November 2022  22:00 (00:30)     Portugal    Uruguay     88,668   \n",
       "57  09 December 2022  22:00 (00:30)  Netherlands  Argentina     88,235   \n",
       "20  26 November 2022  13:00 (15:30)      Tunisia  Australia     41,823   \n",
       "33  29 November 2022  18:00 (20:30)  Netherlands      Qatar     66,784   \n",
       "\n",
       "                                Venue  \n",
       "49              Ahmed bin Ali Stadium  \n",
       "50  Al Thumama Stadium (Neutral Site)  \n",
       "32      Khalifa International Stadium  \n",
       "37             Education City Stadium  \n",
       "6                         Stadium 974  \n",
       "42                    Al Bayt Stadium  \n",
       "31              Lusail Iconic Stadium  \n",
       "57              Lusail Iconic Stadium  \n",
       "20                  Al Janoub Stadium  \n",
       "33                    Al Bayt Stadium  "
      ]
     },
     "execution_count": 3,
     "metadata": {},
     "output_type": "execute_result"
    }
   ],
   "source": [
    "data1.sample(10)"
   ]
  },
  {
   "cell_type": "code",
   "execution_count": 4,
   "id": "224b9f6d",
   "metadata": {},
   "outputs": [
    {
     "name": "stdout",
     "output_type": "stream",
     "text": [
      "<class 'pandas.core.frame.DataFrame'>\n",
      "RangeIndex: 64 entries, 0 to 63\n",
      "Data columns (total 6 columns):\n",
      " #   Column      Non-Null Count  Dtype \n",
      "---  ------      --------------  ----- \n",
      " 0   Date        64 non-null     object\n",
      " 1   Time        64 non-null     object\n",
      " 2   Home        64 non-null     object\n",
      " 3   Away        64 non-null     object\n",
      " 4   Attendance  64 non-null     object\n",
      " 5   Venue       64 non-null     object\n",
      "dtypes: object(6)\n",
      "memory usage: 3.1+ KB\n"
     ]
    }
   ],
   "source": [
    "data1.info()"
   ]
  },
  {
   "cell_type": "code",
   "execution_count": 5,
   "id": "a16b6a7f",
   "metadata": {},
   "outputs": [
    {
     "data": {
      "text/html": [
       "<div>\n",
       "<style scoped>\n",
       "    .dataframe tbody tr th:only-of-type {\n",
       "        vertical-align: middle;\n",
       "    }\n",
       "\n",
       "    .dataframe tbody tr th {\n",
       "        vertical-align: top;\n",
       "    }\n",
       "\n",
       "    .dataframe thead th {\n",
       "        text-align: right;\n",
       "    }\n",
       "</style>\n",
       "<table border=\"1\" class=\"dataframe\">\n",
       "  <thead>\n",
       "    <tr style=\"text-align: right;\">\n",
       "      <th></th>\n",
       "      <th>Date</th>\n",
       "      <th>Time</th>\n",
       "      <th>Home</th>\n",
       "      <th>Away</th>\n",
       "      <th>Attendance</th>\n",
       "      <th>Venue</th>\n",
       "    </tr>\n",
       "  </thead>\n",
       "  <tbody>\n",
       "    <tr>\n",
       "      <th>count</th>\n",
       "      <td>64</td>\n",
       "      <td>64</td>\n",
       "      <td>64</td>\n",
       "      <td>64</td>\n",
       "      <td>64</td>\n",
       "      <td>64</td>\n",
       "    </tr>\n",
       "    <tr>\n",
       "      <th>unique</th>\n",
       "      <td>23</td>\n",
       "      <td>5</td>\n",
       "      <td>32</td>\n",
       "      <td>34</td>\n",
       "      <td>60</td>\n",
       "      <td>9</td>\n",
       "    </tr>\n",
       "    <tr>\n",
       "      <th>top</th>\n",
       "      <td>01 December 2022</td>\n",
       "      <td>22:00 (00:30)</td>\n",
       "      <td>Argentina</td>\n",
       "      <td>Morocco</td>\n",
       "      <td>88,966</td>\n",
       "      <td>Lusail Iconic Stadium</td>\n",
       "    </tr>\n",
       "    <tr>\n",
       "      <th>freq</th>\n",
       "      <td>4</td>\n",
       "      <td>24</td>\n",
       "      <td>5</td>\n",
       "      <td>4</td>\n",
       "      <td>3</td>\n",
       "      <td>10</td>\n",
       "    </tr>\n",
       "  </tbody>\n",
       "</table>\n",
       "</div>"
      ],
      "text/plain": [
       "                    Date           Time       Home     Away Attendance  \\\n",
       "count                 64             64         64       64         64   \n",
       "unique                23              5         32       34         60   \n",
       "top     01 December 2022  22:00 (00:30)  Argentina  Morocco     88,966   \n",
       "freq                   4             24          5        4          3   \n",
       "\n",
       "                        Venue  \n",
       "count                      64  \n",
       "unique                      9  \n",
       "top     Lusail Iconic Stadium  \n",
       "freq                       10  "
      ]
     },
     "execution_count": 5,
     "metadata": {},
     "output_type": "execute_result"
    }
   ],
   "source": [
    "data1.describe()"
   ]
  },
  {
   "cell_type": "code",
   "execution_count": 6,
   "id": "78a9d8bf",
   "metadata": {},
   "outputs": [
    {
     "data": {
      "text/plain": [
       "Date          0\n",
       "Time          0\n",
       "Home          0\n",
       "Away          0\n",
       "Attendance    0\n",
       "Venue         0\n",
       "dtype: int64"
      ]
     },
     "execution_count": 6,
     "metadata": {},
     "output_type": "execute_result"
    }
   ],
   "source": [
    "data1.isnull().sum()"
   ]
  },
  {
   "cell_type": "code",
   "execution_count": 7,
   "id": "60659a10",
   "metadata": {},
   "outputs": [
    {
     "data": {
      "text/html": [
       "<div>\n",
       "<style scoped>\n",
       "    .dataframe tbody tr th:only-of-type {\n",
       "        vertical-align: middle;\n",
       "    }\n",
       "\n",
       "    .dataframe tbody tr th {\n",
       "        vertical-align: top;\n",
       "    }\n",
       "\n",
       "    .dataframe thead th {\n",
       "        text-align: right;\n",
       "    }\n",
       "</style>\n",
       "<table border=\"1\" class=\"dataframe\">\n",
       "  <thead>\n",
       "    <tr style=\"text-align: right;\">\n",
       "      <th></th>\n",
       "      <th>Date</th>\n",
       "      <th>Time</th>\n",
       "      <th>Home</th>\n",
       "      <th>Away</th>\n",
       "      <th>Attendance</th>\n",
       "      <th>Venue</th>\n",
       "    </tr>\n",
       "  </thead>\n",
       "  <tbody>\n",
       "    <tr>\n",
       "      <th>0</th>\n",
       "      <td>20 November 2022</td>\n",
       "      <td>19:00 (21:30)</td>\n",
       "      <td>Qatar</td>\n",
       "      <td>Ecuador</td>\n",
       "      <td>67,372</td>\n",
       "      <td>Al Bayt Stadium</td>\n",
       "    </tr>\n",
       "    <tr>\n",
       "      <th>1</th>\n",
       "      <td>21 November 2022</td>\n",
       "      <td>16:00 (18:30)</td>\n",
       "      <td>England</td>\n",
       "      <td>Iran</td>\n",
       "      <td>45,334</td>\n",
       "      <td>Khalifa International Stadium</td>\n",
       "    </tr>\n",
       "    <tr>\n",
       "      <th>2</th>\n",
       "      <td>21 November 2022</td>\n",
       "      <td>19:00 (21:30)</td>\n",
       "      <td>Senegal</td>\n",
       "      <td>Netherlands</td>\n",
       "      <td>41,721</td>\n",
       "      <td>Al Thumama Stadium</td>\n",
       "    </tr>\n",
       "    <tr>\n",
       "      <th>3</th>\n",
       "      <td>21 November 2022</td>\n",
       "      <td>22:00 (00:30)</td>\n",
       "      <td>USA</td>\n",
       "      <td>Wales</td>\n",
       "      <td>43,418</td>\n",
       "      <td>Ahmed bin Ali Stadium</td>\n",
       "    </tr>\n",
       "    <tr>\n",
       "      <th>4</th>\n",
       "      <td>22 November 2022</td>\n",
       "      <td>13:00 (15:30)</td>\n",
       "      <td>Argentina</td>\n",
       "      <td>Saudi Arabia</td>\n",
       "      <td>88,012</td>\n",
       "      <td>Lusail Iconic Stadium</td>\n",
       "    </tr>\n",
       "  </tbody>\n",
       "</table>\n",
       "</div>"
      ],
      "text/plain": [
       "               Date           Time       Home          Away Attendance  \\\n",
       "0  20 November 2022  19:00 (21:30)     Qatar        Ecuador     67,372   \n",
       "1  21 November 2022  16:00 (18:30)    England          Iran     45,334   \n",
       "2  21 November 2022  19:00 (21:30)    Senegal   Netherlands     41,721   \n",
       "3  21 November 2022  22:00 (00:30)        USA         Wales     43,418   \n",
       "4  22 November 2022  13:00 (15:30)  Argentina  Saudi Arabia     88,012   \n",
       "\n",
       "                           Venue  \n",
       "0                Al Bayt Stadium  \n",
       "1  Khalifa International Stadium  \n",
       "2             Al Thumama Stadium  \n",
       "3          Ahmed bin Ali Stadium  \n",
       "4          Lusail Iconic Stadium  "
      ]
     },
     "execution_count": 7,
     "metadata": {},
     "output_type": "execute_result"
    }
   ],
   "source": [
    "data1.head()"
   ]
  },
  {
   "cell_type": "code",
   "execution_count": 8,
   "id": "7ee8963a",
   "metadata": {},
   "outputs": [],
   "source": [
    "data1['Attendance'] = data1['Attendance'].replace({',':''}, regex = True)\n",
    "data1[['Time','24hrs']] = data1['Time'].str.split('(', expand = True)\n",
    "data1['Time'] = data1['Time'].replace({':':''}, regex = True)"
   ]
  },
  {
   "cell_type": "code",
   "execution_count": 9,
   "id": "db73d66b",
   "metadata": {},
   "outputs": [
    {
     "data": {
      "text/plain": [
       "Date          object\n",
       "Time          object\n",
       "Home          object\n",
       "Away          object\n",
       "Attendance    object\n",
       "Venue         object\n",
       "24hrs         object\n",
       "dtype: object"
      ]
     },
     "execution_count": 9,
     "metadata": {},
     "output_type": "execute_result"
    }
   ],
   "source": [
    "data1.dtypes"
   ]
  },
  {
   "cell_type": "code",
   "execution_count": 10,
   "id": "a930c935",
   "metadata": {},
   "outputs": [],
   "source": [
    "data1['Date'] = pd.to_datetime(data1['Date'])\n",
    "data1['Attendance'] = data1['Attendance'].astype(int)\n",
    "data1['Time'] = data1['Time'].astype(float).astype(int)"
   ]
  },
  {
   "cell_type": "code",
   "execution_count": 11,
   "id": "9e94b8ef",
   "metadata": {},
   "outputs": [
    {
     "data": {
      "text/html": [
       "<div>\n",
       "<style scoped>\n",
       "    .dataframe tbody tr th:only-of-type {\n",
       "        vertical-align: middle;\n",
       "    }\n",
       "\n",
       "    .dataframe tbody tr th {\n",
       "        vertical-align: top;\n",
       "    }\n",
       "\n",
       "    .dataframe thead th {\n",
       "        text-align: right;\n",
       "    }\n",
       "</style>\n",
       "<table border=\"1\" class=\"dataframe\">\n",
       "  <thead>\n",
       "    <tr style=\"text-align: right;\">\n",
       "      <th></th>\n",
       "      <th>Date</th>\n",
       "      <th>Time</th>\n",
       "      <th>Home</th>\n",
       "      <th>Away</th>\n",
       "      <th>Attendance</th>\n",
       "      <th>Venue</th>\n",
       "      <th>24hrs</th>\n",
       "    </tr>\n",
       "  </thead>\n",
       "  <tbody>\n",
       "    <tr>\n",
       "      <th>0</th>\n",
       "      <td>2022-11-20</td>\n",
       "      <td>1900</td>\n",
       "      <td>Qatar</td>\n",
       "      <td>Ecuador</td>\n",
       "      <td>67372</td>\n",
       "      <td>Al Bayt Stadium</td>\n",
       "      <td>21:30)</td>\n",
       "    </tr>\n",
       "    <tr>\n",
       "      <th>1</th>\n",
       "      <td>2022-11-21</td>\n",
       "      <td>1600</td>\n",
       "      <td>England</td>\n",
       "      <td>Iran</td>\n",
       "      <td>45334</td>\n",
       "      <td>Khalifa International Stadium</td>\n",
       "      <td>18:30)</td>\n",
       "    </tr>\n",
       "    <tr>\n",
       "      <th>2</th>\n",
       "      <td>2022-11-21</td>\n",
       "      <td>1900</td>\n",
       "      <td>Senegal</td>\n",
       "      <td>Netherlands</td>\n",
       "      <td>41721</td>\n",
       "      <td>Al Thumama Stadium</td>\n",
       "      <td>21:30)</td>\n",
       "    </tr>\n",
       "    <tr>\n",
       "      <th>3</th>\n",
       "      <td>2022-11-21</td>\n",
       "      <td>2200</td>\n",
       "      <td>USA</td>\n",
       "      <td>Wales</td>\n",
       "      <td>43418</td>\n",
       "      <td>Ahmed bin Ali Stadium</td>\n",
       "      <td>00:30)</td>\n",
       "    </tr>\n",
       "    <tr>\n",
       "      <th>4</th>\n",
       "      <td>2022-11-22</td>\n",
       "      <td>1300</td>\n",
       "      <td>Argentina</td>\n",
       "      <td>Saudi Arabia</td>\n",
       "      <td>88012</td>\n",
       "      <td>Lusail Iconic Stadium</td>\n",
       "      <td>15:30)</td>\n",
       "    </tr>\n",
       "  </tbody>\n",
       "</table>\n",
       "</div>"
      ],
      "text/plain": [
       "        Date  Time       Home          Away  Attendance  \\\n",
       "0 2022-11-20  1900     Qatar        Ecuador       67372   \n",
       "1 2022-11-21  1600    England          Iran       45334   \n",
       "2 2022-11-21  1900    Senegal   Netherlands       41721   \n",
       "3 2022-11-21  2200        USA         Wales       43418   \n",
       "4 2022-11-22  1300  Argentina  Saudi Arabia       88012   \n",
       "\n",
       "                           Venue   24hrs  \n",
       "0                Al Bayt Stadium  21:30)  \n",
       "1  Khalifa International Stadium  18:30)  \n",
       "2             Al Thumama Stadium  21:30)  \n",
       "3          Ahmed bin Ali Stadium  00:30)  \n",
       "4          Lusail Iconic Stadium  15:30)  "
      ]
     },
     "execution_count": 11,
     "metadata": {},
     "output_type": "execute_result"
    }
   ],
   "source": [
    "data1.head()"
   ]
  },
  {
   "cell_type": "code",
   "execution_count": 12,
   "id": "79b42b72",
   "metadata": {},
   "outputs": [],
   "source": [
    "data1.drop(columns=['24hrs'],inplace=True)"
   ]
  },
  {
   "cell_type": "code",
   "execution_count": 13,
   "id": "356c9ccf",
   "metadata": {},
   "outputs": [
    {
     "data": {
      "text/html": [
       "<div>\n",
       "<style scoped>\n",
       "    .dataframe tbody tr th:only-of-type {\n",
       "        vertical-align: middle;\n",
       "    }\n",
       "\n",
       "    .dataframe tbody tr th {\n",
       "        vertical-align: top;\n",
       "    }\n",
       "\n",
       "    .dataframe thead th {\n",
       "        text-align: right;\n",
       "    }\n",
       "</style>\n",
       "<table border=\"1\" class=\"dataframe\">\n",
       "  <thead>\n",
       "    <tr style=\"text-align: right;\">\n",
       "      <th></th>\n",
       "      <th>Date</th>\n",
       "      <th>Time</th>\n",
       "      <th>Home</th>\n",
       "      <th>Away</th>\n",
       "      <th>Attendance</th>\n",
       "      <th>Venue</th>\n",
       "    </tr>\n",
       "  </thead>\n",
       "  <tbody>\n",
       "    <tr>\n",
       "      <th>0</th>\n",
       "      <td>2022-11-20</td>\n",
       "      <td>1900</td>\n",
       "      <td>Qatar</td>\n",
       "      <td>Ecuador</td>\n",
       "      <td>67372</td>\n",
       "      <td>Al Bayt Stadium</td>\n",
       "    </tr>\n",
       "    <tr>\n",
       "      <th>1</th>\n",
       "      <td>2022-11-21</td>\n",
       "      <td>1600</td>\n",
       "      <td>England</td>\n",
       "      <td>Iran</td>\n",
       "      <td>45334</td>\n",
       "      <td>Khalifa International Stadium</td>\n",
       "    </tr>\n",
       "    <tr>\n",
       "      <th>2</th>\n",
       "      <td>2022-11-21</td>\n",
       "      <td>1900</td>\n",
       "      <td>Senegal</td>\n",
       "      <td>Netherlands</td>\n",
       "      <td>41721</td>\n",
       "      <td>Al Thumama Stadium</td>\n",
       "    </tr>\n",
       "    <tr>\n",
       "      <th>3</th>\n",
       "      <td>2022-11-21</td>\n",
       "      <td>2200</td>\n",
       "      <td>USA</td>\n",
       "      <td>Wales</td>\n",
       "      <td>43418</td>\n",
       "      <td>Ahmed bin Ali Stadium</td>\n",
       "    </tr>\n",
       "    <tr>\n",
       "      <th>4</th>\n",
       "      <td>2022-11-22</td>\n",
       "      <td>1300</td>\n",
       "      <td>Argentina</td>\n",
       "      <td>Saudi Arabia</td>\n",
       "      <td>88012</td>\n",
       "      <td>Lusail Iconic Stadium</td>\n",
       "    </tr>\n",
       "  </tbody>\n",
       "</table>\n",
       "</div>"
      ],
      "text/plain": [
       "        Date  Time       Home          Away  Attendance  \\\n",
       "0 2022-11-20  1900     Qatar        Ecuador       67372   \n",
       "1 2022-11-21  1600    England          Iran       45334   \n",
       "2 2022-11-21  1900    Senegal   Netherlands       41721   \n",
       "3 2022-11-21  2200        USA         Wales       43418   \n",
       "4 2022-11-22  1300  Argentina  Saudi Arabia       88012   \n",
       "\n",
       "                           Venue  \n",
       "0                Al Bayt Stadium  \n",
       "1  Khalifa International Stadium  \n",
       "2             Al Thumama Stadium  \n",
       "3          Ahmed bin Ali Stadium  \n",
       "4          Lusail Iconic Stadium  "
      ]
     },
     "execution_count": 13,
     "metadata": {},
     "output_type": "execute_result"
    }
   ],
   "source": [
    "data1.head()"
   ]
  },
  {
   "cell_type": "code",
   "execution_count": 14,
   "id": "4df6ac18",
   "metadata": {},
   "outputs": [
    {
     "name": "stdout",
     "output_type": "stream",
     "text": [
      "Unique Values of  Date = ['2022-11-20T00:00:00.000000000' '2022-11-21T00:00:00.000000000'\n",
      " '2022-11-22T00:00:00.000000000' '2022-11-23T00:00:00.000000000'\n",
      " '2022-11-24T00:00:00.000000000' '2022-11-25T00:00:00.000000000'\n",
      " '2022-11-26T00:00:00.000000000' '2022-11-27T00:00:00.000000000'\n",
      " '2022-11-28T00:00:00.000000000' '2022-11-29T00:00:00.000000000'\n",
      " '2022-11-30T00:00:00.000000000' '2022-12-01T00:00:00.000000000'\n",
      " '2022-12-02T00:00:00.000000000' '2022-12-03T00:00:00.000000000'\n",
      " '2022-12-04T00:00:00.000000000' '2022-12-05T00:00:00.000000000'\n",
      " '2022-12-06T00:00:00.000000000' '2022-12-09T00:00:00.000000000'\n",
      " '2022-12-10T00:00:00.000000000' '2022-12-13T00:00:00.000000000'\n",
      " '2022-12-14T00:00:00.000000000' '2022-12-17T00:00:00.000000000'\n",
      " '2022-12-18T00:00:00.000000000']\n",
      "..............................\n",
      "Unique Values of  Time = [1900 1600 2200 1300 1800]\n",
      "..............................\n",
      "Unique Values of  Home = ['Qatar ' 'England' 'Senegal' 'USA' 'Argentina' 'Denmark' 'Mexico'\n",
      " 'France' 'Morocco' 'Germany' 'Spain' 'Belgium' 'Switzerland' 'Uruguay '\n",
      " 'Portugal' 'Brazil' 'Wales' 'Netherlands' 'Tunisia' 'Poland' 'Japan'\n",
      " 'Croatia' 'Cameroon' 'Korea Republic' 'Ecuador' 'Iran' 'Australia'\n",
      " 'Saudi Arabia' 'Canada' 'Costa Rica ' 'Ghana' 'Serbia']\n",
      "..............................\n",
      "Unique Values of  Away = ['Ecuador' 'Iran' 'Netherlands' 'Wales' 'Saudi Arabia' 'Tunisia' 'Poland'\n",
      " 'Australia' 'Croatia' 'Japan' 'Costa Rica' 'Canada' 'Cameroon'\n",
      " 'Korea Republic' 'Ghana' 'Serbia' 'Senegal' 'USA' 'Denmark' 'Mexico'\n",
      " ' Costa Rica' 'Morocco' 'Germany' 'Switzerland' 'Uruguay' ' Qatar'\n",
      " 'England' 'France' 'Argentina' 'Belgium' 'Spain' 'Portugal' ' Uruguay'\n",
      " 'Brazil']\n",
      "..............................\n",
      "Unique Values of  Attendance = [67372 45334 41721 43418 88012 42925 39369 40875 59407 42608 40013 40432\n",
      " 39089 41663 42662 88103 41797 44833 68463 41823 44259 42860 88966 41479\n",
      " 43738 44374 68895 39789 43983 43649 88668 44569 66784 42127 44297 41232\n",
      " 43627 84985 44089 43102 43984 67054 44851 44097 43443 85986 41378 44846\n",
      " 45032 40989 65985 42523 43847 44667 83720 43893 88235 44198 68294 44137]\n",
      "..............................\n",
      "Unique Values of  Venue = ['Al Bayt Stadium' 'Khalifa International Stadium' 'Al Thumama Stadium'\n",
      " 'Ahmed bin Ali Stadium' 'Lusail Iconic Stadium' 'Education City Stadium'\n",
      " 'Stadium 974' 'Al Janoub Stadium' 'Al Thumama Stadium (Neutral Site)']\n",
      "..............................\n"
     ]
    }
   ],
   "source": [
    "cols = ['Date', 'Time', 'Home','Away','Attendance','Venue']   #Unique Values\n",
    "for i in cols:\n",
    "    print(\"Unique Values of \",i,\"=\",data1[i].unique())\n",
    "    print('..............................')"
   ]
  },
  {
   "cell_type": "code",
   "execution_count": 15,
   "id": "8883eecb",
   "metadata": {},
   "outputs": [],
   "source": [
    "data1['Daytime'] = pd.cut(data1['Time'], bins=[1200,1800,2200], labels=['Day', 'Night'])"
   ]
  },
  {
   "cell_type": "code",
   "execution_count": 16,
   "id": "ef05d460",
   "metadata": {},
   "outputs": [
    {
     "data": {
      "text/html": [
       "<div>\n",
       "<style scoped>\n",
       "    .dataframe tbody tr th:only-of-type {\n",
       "        vertical-align: middle;\n",
       "    }\n",
       "\n",
       "    .dataframe tbody tr th {\n",
       "        vertical-align: top;\n",
       "    }\n",
       "\n",
       "    .dataframe thead th {\n",
       "        text-align: right;\n",
       "    }\n",
       "</style>\n",
       "<table border=\"1\" class=\"dataframe\">\n",
       "  <thead>\n",
       "    <tr style=\"text-align: right;\">\n",
       "      <th></th>\n",
       "      <th>Date</th>\n",
       "      <th>Time</th>\n",
       "      <th>Home</th>\n",
       "      <th>Away</th>\n",
       "      <th>Attendance</th>\n",
       "      <th>Venue</th>\n",
       "      <th>Daytime</th>\n",
       "    </tr>\n",
       "  </thead>\n",
       "  <tbody>\n",
       "    <tr>\n",
       "      <th>0</th>\n",
       "      <td>2022-11-20</td>\n",
       "      <td>1900</td>\n",
       "      <td>Qatar</td>\n",
       "      <td>Ecuador</td>\n",
       "      <td>67372</td>\n",
       "      <td>Al Bayt Stadium</td>\n",
       "      <td>Night</td>\n",
       "    </tr>\n",
       "    <tr>\n",
       "      <th>1</th>\n",
       "      <td>2022-11-21</td>\n",
       "      <td>1600</td>\n",
       "      <td>England</td>\n",
       "      <td>Iran</td>\n",
       "      <td>45334</td>\n",
       "      <td>Khalifa International Stadium</td>\n",
       "      <td>Day</td>\n",
       "    </tr>\n",
       "    <tr>\n",
       "      <th>2</th>\n",
       "      <td>2022-11-21</td>\n",
       "      <td>1900</td>\n",
       "      <td>Senegal</td>\n",
       "      <td>Netherlands</td>\n",
       "      <td>41721</td>\n",
       "      <td>Al Thumama Stadium</td>\n",
       "      <td>Night</td>\n",
       "    </tr>\n",
       "    <tr>\n",
       "      <th>3</th>\n",
       "      <td>2022-11-21</td>\n",
       "      <td>2200</td>\n",
       "      <td>USA</td>\n",
       "      <td>Wales</td>\n",
       "      <td>43418</td>\n",
       "      <td>Ahmed bin Ali Stadium</td>\n",
       "      <td>Night</td>\n",
       "    </tr>\n",
       "    <tr>\n",
       "      <th>4</th>\n",
       "      <td>2022-11-22</td>\n",
       "      <td>1300</td>\n",
       "      <td>Argentina</td>\n",
       "      <td>Saudi Arabia</td>\n",
       "      <td>88012</td>\n",
       "      <td>Lusail Iconic Stadium</td>\n",
       "      <td>Day</td>\n",
       "    </tr>\n",
       "  </tbody>\n",
       "</table>\n",
       "</div>"
      ],
      "text/plain": [
       "        Date  Time       Home          Away  Attendance  \\\n",
       "0 2022-11-20  1900     Qatar        Ecuador       67372   \n",
       "1 2022-11-21  1600    England          Iran       45334   \n",
       "2 2022-11-21  1900    Senegal   Netherlands       41721   \n",
       "3 2022-11-21  2200        USA         Wales       43418   \n",
       "4 2022-11-22  1300  Argentina  Saudi Arabia       88012   \n",
       "\n",
       "                           Venue Daytime  \n",
       "0                Al Bayt Stadium   Night  \n",
       "1  Khalifa International Stadium     Day  \n",
       "2             Al Thumama Stadium   Night  \n",
       "3          Ahmed bin Ali Stadium   Night  \n",
       "4          Lusail Iconic Stadium     Day  "
      ]
     },
     "execution_count": 16,
     "metadata": {},
     "output_type": "execute_result"
    }
   ],
   "source": [
    "data1.head()"
   ]
  },
  {
   "cell_type": "code",
   "execution_count": 17,
   "id": "b7cc996f",
   "metadata": {},
   "outputs": [
    {
     "data": {
      "text/html": [
       "<div>\n",
       "<style scoped>\n",
       "    .dataframe tbody tr th:only-of-type {\n",
       "        vertical-align: middle;\n",
       "    }\n",
       "\n",
       "    .dataframe tbody tr th {\n",
       "        vertical-align: top;\n",
       "    }\n",
       "\n",
       "    .dataframe thead th {\n",
       "        text-align: right;\n",
       "    }\n",
       "</style>\n",
       "<table border=\"1\" class=\"dataframe\">\n",
       "  <thead>\n",
       "    <tr style=\"text-align: right;\">\n",
       "      <th></th>\n",
       "      <th>Time</th>\n",
       "      <th>Attendance</th>\n",
       "    </tr>\n",
       "  </thead>\n",
       "  <tbody>\n",
       "    <tr>\n",
       "      <th>count</th>\n",
       "      <td>64.000000</td>\n",
       "      <td>64.000000</td>\n",
       "    </tr>\n",
       "    <tr>\n",
       "      <th>mean</th>\n",
       "      <td>1884.375000</td>\n",
       "      <td>53191.437500</td>\n",
       "    </tr>\n",
       "    <tr>\n",
       "      <th>std</th>\n",
       "      <td>296.657972</td>\n",
       "      <td>17108.666048</td>\n",
       "    </tr>\n",
       "    <tr>\n",
       "      <th>min</th>\n",
       "      <td>1300.000000</td>\n",
       "      <td>39089.000000</td>\n",
       "    </tr>\n",
       "    <tr>\n",
       "      <th>25%</th>\n",
       "      <td>1800.000000</td>\n",
       "      <td>42424.000000</td>\n",
       "    </tr>\n",
       "    <tr>\n",
       "      <th>50%</th>\n",
       "      <td>1900.000000</td>\n",
       "      <td>44093.000000</td>\n",
       "    </tr>\n",
       "    <tr>\n",
       "      <th>75%</th>\n",
       "      <td>2200.000000</td>\n",
       "      <td>66851.500000</td>\n",
       "    </tr>\n",
       "    <tr>\n",
       "      <th>max</th>\n",
       "      <td>2200.000000</td>\n",
       "      <td>88966.000000</td>\n",
       "    </tr>\n",
       "  </tbody>\n",
       "</table>\n",
       "</div>"
      ],
      "text/plain": [
       "              Time    Attendance\n",
       "count    64.000000     64.000000\n",
       "mean   1884.375000  53191.437500\n",
       "std     296.657972  17108.666048\n",
       "min    1300.000000  39089.000000\n",
       "25%    1800.000000  42424.000000\n",
       "50%    1900.000000  44093.000000\n",
       "75%    2200.000000  66851.500000\n",
       "max    2200.000000  88966.000000"
      ]
     },
     "execution_count": 17,
     "metadata": {},
     "output_type": "execute_result"
    }
   ],
   "source": [
    "data1.describe()"
   ]
  },
  {
   "cell_type": "markdown",
   "id": "9edc12b5",
   "metadata": {},
   "source": [
    "# Visualization"
   ]
  },
  {
   "cell_type": "code",
   "execution_count": 18,
   "id": "096e81e2",
   "metadata": {},
   "outputs": [
    {
     "data": {
      "image/png": "[encoded data removed]",
      "text/plain": [
       "<Figure size 720x432 with 1 Axes>"
      ]
     },
     "metadata": {
      "needs_background": "light"
     },
     "output_type": "display_data"
    }
   ],
   "source": [
    "plt.figure(figsize=(10,6))\n",
    "sns.countplot(data1['Venue'])\n",
    "plt.xticks(rotation=90)\n",
    "plt.title('Number of Matches played at each venues')\n",
    "plt.show()"
   ]
  },
  {
   "cell_type": "code",
   "execution_count": 19,
   "id": "26214cd5",
   "metadata": {},
   "outputs": [
    {
     "data": {
      "image/png": "[encoded data removed]",
      "text/plain": [
       "<Figure size 648x360 with 1 Axes>"
      ]
     },
     "metadata": {
      "needs_background": "light"
     },
     "output_type": "display_data"
    }
   ],
   "source": [
    "plt.figure(figsize=(9,5))\n",
    "ax = sns.countplot(x='Daytime', data=data1)\n",
    "ax.bar_label(ax.containers[0])\n",
    "plt.xticks(rotation=0)\n",
    "plt.title('Day/Night number of matches')\n",
    "plt.show()"
   ]
  },
  {
   "cell_type": "code",
   "execution_count": 20,
   "id": "83895861",
   "metadata": {},
   "outputs": [
    {
     "data": {
      "image/png": "[encoded data removed]",
      "text/plain": [
       "<Figure size 864x576 with 1 Axes>"
      ]
     },
     "metadata": {
      "needs_background": "light"
     },
     "output_type": "display_data"
    }
   ],
   "source": [
    "plt.figure(figsize=(12,8))\n",
    "ax = sns.barplot(x='Attendance', y='Venue', data=data1, ci=None)\n",
    "ax.bar_label(ax.containers[0])\n",
    "plt.xticks(rotation=0)\n",
    "plt.title('Attendance at Venues')\n",
    "plt.show()"
   ]
  },
  {
   "cell_type": "code",
   "execution_count": 21,
   "id": "b4313da3",
   "metadata": {},
   "outputs": [
    {
     "data": {
      "text/plain": [
       "Text(0.5, 1.0, 'Most Attendents in Daytime')"
      ]
     },
     "execution_count": 21,
     "metadata": {},
     "output_type": "execute_result"
    },
    {
     "data": {
      "image/png": "[encoded data removed]",
      "text/plain": [
       "<Figure size 1080x432 with 1 Axes>"
      ]
     },
     "metadata": {
      "needs_background": "light"
     },
     "output_type": "display_data"
    }
   ],
   "source": [
    "plt.figure(figsize=(15,6))\n",
    "sns.barplot(y=data1['Attendance'], x=data1['Daytime'], ci=None)\n",
    "plt.title('Most Attendents in Daytime')"
   ]
  },
  {
   "cell_type": "code",
   "execution_count": 22,
   "id": "3ab7f335",
   "metadata": {},
   "outputs": [
    {
     "data": {
      "image/png": "[encoded data removed]",
      "text/plain": [
       "<Figure size 1080x432 with 1 Axes>"
      ]
     },
     "metadata": {
      "needs_background": "light"
     },
     "output_type": "display_data"
    }
   ],
   "source": [
    "plt.figure(figsize=(15,6))\n",
    "sns.barplot(x='Home', y='Attendance', data=data1, ci=None)\n",
    "sns.set_style('whitegrid')\n",
    "plt.title('Spectators of Home Teams')\n",
    "plt.xticks(rotation=90)\n",
    "plt.show()"
   ]
  },
  {
   "cell_type": "code",
   "execution_count": 23,
   "id": "2ee00051",
   "metadata": {},
   "outputs": [
    {
     "data": {
      "image/png": "[encoded data removed]",
      "text/plain": [
       "<Figure size 1080x432 with 1 Axes>"
      ]
     },
     "metadata": {},
     "output_type": "display_data"
    }
   ],
   "source": [
    "plt.figure(figsize=(15,6))\n",
    "sns.barplot(x='Home', y='Attendance', data=data1, ci=None)\n",
    "sns.set_style('whitegrid')\n",
    "plt.title('Spectators of Away Teams')\n",
    "plt.xticks(rotation=90)\n",
    "plt.show()"
   ]
  },
  {
   "cell_type": "code",
   "execution_count": 24,
   "id": "a53c0e4d",
   "metadata": {},
   "outputs": [
    {
     "data": {
      "image/png": "[encoded data removed]",
      "text/plain": [
       "<Figure size 1080x432 with 1 Axes>"
      ]
     },
     "metadata": {},
     "output_type": "display_data"
    }
   ],
   "source": [
    "plt.figure(figsize=(15,6))\n",
    "sns.barplot(x=data1['Time'], y=data1['Attendance'], ci=None)\n",
    "plt.xticks(rotation=90)\n",
    "plt.show()"
   ]
  },
  {
   "cell_type": "code",
   "execution_count": null,
   "id": "f26fdfbe",
   "metadata": {},
   "outputs": [],
   "source": []
  }
 ],
 "metadata": {
  "kernelspec": {
   "display_name": "Python 3 (ipykernel)",
   "language": "python",
   "name": "python3"
  },
  "language_info": {
   "codemirror_mode": {
    "name": "ipython",
    "version": 3
   },
   "file_extension": ".py",
   "mimetype": "text/x-python",
   "name": "python",
   "nbconvert_exporter": "python",
   "pygments_lexer": "ipython3",
   "version": "3.9.7"
  }
 },
 "nbformat": 4,
 "nbformat_minor": 5
}
